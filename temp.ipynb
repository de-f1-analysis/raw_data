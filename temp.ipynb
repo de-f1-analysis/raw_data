{
 "cells": [
  {
   "cell_type": "code",
   "execution_count": 4,
   "metadata": {},
   "outputs": [
    {
     "name": "stdout",
     "output_type": "stream",
     "text": [
      "{'broadcast_name': 'M VERSTAPPEN', 'driver_number': 1, 'session_key': 7953}\n"
     ]
    }
   ],
   "source": [
    "import requests\n",
    "\n",
    "# 변환 정보 테이블\n",
    "conversion_table = {\n",
    "    (2023, 1): {\"meeting_key\": 1141, \"session_key\": 7953},\n",
    "    (2023, 2): {\"meeting_key\": 1142, \"session_key\": 7779},\n",
    "    (2023, 3): {\"meeting_key\": 1143, \"session_key\": 7787},\n",
    "    (2023, 4): {\"meeting_key\": 1207, \"session_key\": 9069},\n",
    "    (2023, 5): {\"meeting_key\": 1208, \"session_key\": 9078},\n",
    "    (2023, 6): {\"meeting_key\": 1210, \"session_key\": 9094},\n",
    "}\n",
    "\n",
    "# 결과를 저장할 리스트\n",
    "drivers_info = []\n",
    "\n",
    "# API 호출\n",
    "for key, value in conversion_table.items():\n",
    "    session_key = value[\"session_key\"]\n",
    "    url = f\"https://api.openf1.org/v1/drivers?session_key={session_key}\"\n",
    "    \n",
    "    response = requests.get(url)\n",
    "    \n",
    "    if response.status_code == 200:\n",
    "        drivers_data = response.json()\n",
    "        \n",
    "        for driver in drivers_data:\n",
    "            driver_info = {\n",
    "                \"broadcast_name\": driver.get(\"broadcast_name\"),\n",
    "                \"driver_number\": driver.get(\"driver_number\"),\n",
    "                \"session_key\": driver.get(\"session_key\")\n",
    "            }\n",
    "            drivers_info.append(driver_info)\n",
    "    else:\n",
    "        print(f\"Failed to get data for session_key {session_key}\")\n",
    "\n",
    "# 결과 출력\n",
    "for driver_info in drivers_info:\n",
    "    print(driver_info)"
   ]
  },
  {
   "cell_type": "code",
   "execution_count": 8,
   "metadata": {},
   "outputs": [
    {
     "name": "stdout",
     "output_type": "stream",
     "text": [
      "Data saved to f1_pit_stops_transformed_with_driver_numbers.csv\n"
     ]
    }
   ],
   "source": [
    "import pandas as pd\n",
    "\n",
    "# CSV 파일 불러오기\n",
    "pit_stops_df = pd.read_csv(\"f1_pit_stops_transformed.csv\")\n",
    "drivers_info_df = pd.read_csv(\"drivers_info.csv\")\n",
    "\n",
    "# driver_info.csv의 session_key에 따라 driver_number 가져오기\n",
    "driver_dict = drivers_info_df.set_index(['broadcast_name', 'session_key'])['driver_number'].to_dict()\n",
    "\n",
    "# driverId를 driver_number로 변환\n",
    "def get_driver_number(driver_id, session_key):\n",
    "    broadcast_name = driver_id.replace('_', ' ').title()\n",
    "    return driver_dict.get((broadcast_name, session_key))\n",
    "\n",
    "pit_stops_df['driver_number'] = pit_stops_df.apply(lambda row: get_driver_number(row['driverId'], row['session_key']), axis=1)\n",
    "\n",
    "# driverId 칼럼 제거\n",
    "pit_stops_df = pit_stops_df.drop(columns=['driverId'])\n",
    "\n",
    "# CSV 파일로 저장\n",
    "csv_filename = \"f1_pit_stops_transformed_with_driver_numbers.csv\"\n",
    "pit_stops_df.to_csv(csv_filename, index=False)\n",
    "\n",
    "print(f\"Data saved to {csv_filename}\")"
   ]
  },
  {
   "cell_type": "code",
   "execution_count": 7,
   "metadata": {},
   "outputs": [
    {
     "name": "stdout",
     "output_type": "stream",
     "text": [
      "Data saved to drivers_info.csv\n"
     ]
    }
   ],
   "source": [
    "import requests\n",
    "import pandas as pd\n",
    "\n",
    "# 변환 정보 테이블\n",
    "conversion_table = {\n",
    "    (2023, 1): {\"meeting_key\": 1141, \"session_key\": 7953},\n",
    "    (2023, 2): {\"meeting_key\": 1142, \"session_key\": 7779},\n",
    "    (2023, 3): {\"meeting_key\": 1143, \"session_key\": 7787},\n",
    "    (2023, 4): {\"meeting_key\": 1207, \"session_key\": 9069},\n",
    "    (2023, 5): {\"meeting_key\": 1208, \"session_key\": 9078},\n",
    "    (2023, 6): {\"meeting_key\": 1210, \"session_key\": 9094},\n",
    "}\n",
    "\n",
    "# 결과를 저장할 리스트\n",
    "drivers_info = []\n",
    "\n",
    "# API 호출\n",
    "for key, value in conversion_table.items():\n",
    "    session_key = value[\"session_key\"]\n",
    "    url = f\"https://api.openf1.org/v1/drivers?session_key={session_key}\"\n",
    "    \n",
    "    response = requests.get(url)\n",
    "    \n",
    "    if response.status_code == 200:\n",
    "        drivers_data = response.json()\n",
    "        \n",
    "        for driver in drivers_data:\n",
    "            driver_info = {\n",
    "                \"broadcast_name\": driver.get(\"broadcast_name\"),\n",
    "                \"driver_number\": driver.get(\"driver_number\"),\n",
    "                \"session_key\": driver.get(\"session_key\")\n",
    "            }\n",
    "            drivers_info.append(driver_info)\n",
    "    else:\n",
    "        print(f\"Failed to get data for session_key {session_key}\")\n",
    "\n",
    "# 데이터프레임으로 변환\n",
    "drivers_df = pd.DataFrame(drivers_info)\n",
    "\n",
    "# CSV 파일로 저장\n",
    "csv_filename = \"drivers_info.csv\"\n",
    "drivers_df.to_csv(csv_filename, index=False)\n",
    "\n",
    "print(f\"Data saved to {csv_filename}\")"
   ]
  },
  {
   "cell_type": "code",
   "execution_count": 9,
   "metadata": {},
   "outputs": [
    {
     "name": "stdout",
     "output_type": "stream",
     "text": [
      "[9102, 9110, 9117, 9118, 9126, 9133, 9140, 9141, 9149, 9157, 9165, 9173, 9220, 9221, 9212, 9213, 9181, 9204, 9205, 9189, 9197, 9472, 9480, 9488, 9496, 9672, 9673, 9506, 9507, 9515, 9523, 9531]\n"
     ]
    }
   ],
   "source": [
    "import requests\n",
    "\n",
    "# API 요청 URL\n",
    "url = \"https://api.openf1.org/v1/sessions?date_start%3E2023-06-01&session_type=Race\"\n",
    "\n",
    "# API 요청\n",
    "response = requests.get(url)\n",
    "\n",
    "# 응답이 성공적인 경우\n",
    "if response.status_code == 200:\n",
    "    sessions_data = response.json()\n",
    "    # session_key만 추출하여 리스트로 저장\n",
    "    session_keys = [session['session_key'] for session in sessions_data]\n",
    "    # 결과 출력\n",
    "    print(session_keys)\n",
    "else:\n",
    "    print(f\"Failed to fetch data. Status code: {response.status_code}\")"
   ]
  },
  {
   "cell_type": "code",
   "execution_count": 10,
   "metadata": {},
   "outputs": [
    {
     "name": "stdout",
     "output_type": "stream",
     "text": [
      "/home/sangwon/devcourse/projects/raw_data\n"
     ]
    }
   ],
   "source": [
    "import os\n",
    "\n",
    "print(os.getcwd())"
   ]
  }
 ],
 "metadata": {
  "kernelspec": {
   "display_name": "Python 3",
   "language": "python",
   "name": "python3"
  },
  "language_info": {
   "codemirror_mode": {
    "name": "ipython",
    "version": 3
   },
   "file_extension": ".py",
   "mimetype": "text/x-python",
   "name": "python",
   "nbconvert_exporter": "python",
   "pygments_lexer": "ipython3",
   "version": "3.10.12"
  }
 },
 "nbformat": 4,
 "nbformat_minor": 2
}
