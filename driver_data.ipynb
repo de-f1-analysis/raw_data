{
  "metadata": {
    "kernelspec": {
      "name": "python",
      "display_name": "Python (Pyodide)",
      "language": "python"
    },
    "language_info": {
      "codemirror_mode": {
        "name": "python",
        "version": 3
      },
      "file_extension": ".py",
      "mimetype": "text/x-python",
      "name": "python",
      "nbconvert_exporter": "python",
      "pygments_lexer": "ipython3",
      "version": "3.8"
    }
  },
  "nbformat_minor": 4,
  "nbformat": 4,
  "cells": [
    {
      "cell_type": "code",
      "source": "from urllib.request import urlopen\nimport requests\nimport json\nimport pandas as pd\nfrom pandas import DataFrame\nimport datetime",
      "metadata": {
        "trusted": true
      },
      "outputs": [],
      "execution_count": 1
    },
    {
      "cell_type": "markdown",
      "source": "## get data",
      "metadata": {}
    },
    {
      "cell_type": "markdown",
      "source": "### driver",
      "metadata": {}
    },
    {
      "cell_type": "code",
      "source": "driver = pd.DataFrame(requests.get('https://api.openf1.org/v1/drivers').json())",
      "metadata": {
        "trusted": true
      },
      "outputs": [
        {
          "name": "stderr",
          "text": "/lib/python3.11/site-packages/urllib3/connectionpool.py:1101: InsecureRequestWarning: Unverified HTTPS request is being made to host 'api.openf1.org'. Adding certificate verification is strongly advised. See: https://urllib3.readthedocs.io/en/latest/advanced-usage.html#tls-warnings\n  warnings.warn(\n",
          "output_type": "stream"
        }
      ],
      "execution_count": 2
    },
    {
      "cell_type": "code",
      "source": "cols_driver = [\"driver_number\", \"meeting_key\", \"session_key\", \"full_name\", \"team_name\"] ",
      "metadata": {
        "trusted": true
      },
      "outputs": [],
      "execution_count": 3
    },
    {
      "cell_type": "code",
      "source": "driver = driver[cols_driver]",
      "metadata": {
        "trusted": true
      },
      "outputs": [],
      "execution_count": 4
    },
    {
      "cell_type": "markdown",
      "source": "### session",
      "metadata": {}
    },
    {
      "cell_type": "code",
      "source": "session = pd.DataFrame(requests.get('https://api.openf1.org/v1/sessions').json())",
      "metadata": {
        "trusted": true
      },
      "outputs": [
        {
          "name": "stderr",
          "text": "/lib/python3.11/site-packages/urllib3/connectionpool.py:1101: InsecureRequestWarning: Unverified HTTPS request is being made to host 'api.openf1.org'. Adding certificate verification is strongly advised. See: https://urllib3.readthedocs.io/en/latest/advanced-usage.html#tls-warnings\n  warnings.warn(\n",
          "output_type": "stream"
        }
      ],
      "execution_count": 5
    },
    {
      "cell_type": "code",
      "source": "cols_session = [\"meeting_key\", \"session_key\", \"session_type\", \"date_start\", \"date_end\", \"year\"]",
      "metadata": {
        "trusted": true
      },
      "outputs": [],
      "execution_count": 8
    },
    {
      "cell_type": "code",
      "source": "session = session[cols_session]",
      "metadata": {
        "trusted": true
      },
      "outputs": [],
      "execution_count": 9
    },
    {
      "cell_type": "markdown",
      "source": "## data check",
      "metadata": {}
    },
    {
      "cell_type": "markdown",
      "source": "### driver",
      "metadata": {}
    },
    {
      "cell_type": "code",
      "source": "driver.info()",
      "metadata": {
        "trusted": true
      },
      "outputs": [
        {
          "name": "stdout",
          "text": "<class 'pandas.core.frame.DataFrame'>\nRangeIndex: 3143 entries, 0 to 3142\nData columns (total 5 columns):\n #   Column         Non-Null Count  Dtype \n---  ------         --------------  ----- \n 0   driver_number  3143 non-null   int64 \n 1   meeting_key    3143 non-null   int64 \n 2   session_key    3143 non-null   int64 \n 3   full_name      3143 non-null   object\n 4   team_name      2186 non-null   object\ndtypes: int64(3), object(2)\nmemory usage: 98.3+ KB\n",
          "output_type": "stream"
        }
      ],
      "execution_count": 10
    },
    {
      "cell_type": "code",
      "source": "driver[driver[\"team_name\"].isnull() == True]",
      "metadata": {
        "trusted": true,
        "scrolled": true
      },
      "outputs": [
        {
          "execution_count": 11,
          "output_type": "execute_result",
          "data": {
            "text/plain": "      driver_number  meeting_key  session_key        full_name team_name\n40               20         1140         9222  Kevin MAGNUSSEN      None\n133               1         1141         7953   Max VERSTAPPEN      None\n134               2         1141         7953   Logan SARGEANT      None\n135               4         1141         7953     Lando NORRIS      None\n136              10         1141         7953     Pierre GASLY      None\n...             ...          ...          ...              ...       ...\n2202             55         1226         9192     Carlos SAINZ      None\n2203             63         1226         9192   George RUSSELL      None\n2204             77         1226         9192  Valtteri BOTTAS      None\n2205             81         1226         9192    Oscar PIASTRI      None\n2858             50         1235         9508   Oliver BEARMAN      None\n\n[957 rows x 5 columns]",
            "text/html": "<div>\n<style scoped>\n    .dataframe tbody tr th:only-of-type {\n        vertical-align: middle;\n    }\n\n    .dataframe tbody tr th {\n        vertical-align: top;\n    }\n\n    .dataframe thead th {\n        text-align: right;\n    }\n</style>\n<table border=\"1\" class=\"dataframe\">\n  <thead>\n    <tr style=\"text-align: right;\">\n      <th></th>\n      <th>driver_number</th>\n      <th>meeting_key</th>\n      <th>session_key</th>\n      <th>full_name</th>\n      <th>team_name</th>\n    </tr>\n  </thead>\n  <tbody>\n    <tr>\n      <th>40</th>\n      <td>20</td>\n      <td>1140</td>\n      <td>9222</td>\n      <td>Kevin MAGNUSSEN</td>\n      <td>None</td>\n    </tr>\n    <tr>\n      <th>133</th>\n      <td>1</td>\n      <td>1141</td>\n      <td>7953</td>\n      <td>Max VERSTAPPEN</td>\n      <td>None</td>\n    </tr>\n    <tr>\n      <th>134</th>\n      <td>2</td>\n      <td>1141</td>\n      <td>7953</td>\n      <td>Logan SARGEANT</td>\n      <td>None</td>\n    </tr>\n    <tr>\n      <th>135</th>\n      <td>4</td>\n      <td>1141</td>\n      <td>7953</td>\n      <td>Lando NORRIS</td>\n      <td>None</td>\n    </tr>\n    <tr>\n      <th>136</th>\n      <td>10</td>\n      <td>1141</td>\n      <td>7953</td>\n      <td>Pierre GASLY</td>\n      <td>None</td>\n    </tr>\n    <tr>\n      <th>...</th>\n      <td>...</td>\n      <td>...</td>\n      <td>...</td>\n      <td>...</td>\n      <td>...</td>\n    </tr>\n    <tr>\n      <th>2202</th>\n      <td>55</td>\n      <td>1226</td>\n      <td>9192</td>\n      <td>Carlos SAINZ</td>\n      <td>None</td>\n    </tr>\n    <tr>\n      <th>2203</th>\n      <td>63</td>\n      <td>1226</td>\n      <td>9192</td>\n      <td>George RUSSELL</td>\n      <td>None</td>\n    </tr>\n    <tr>\n      <th>2204</th>\n      <td>77</td>\n      <td>1226</td>\n      <td>9192</td>\n      <td>Valtteri BOTTAS</td>\n      <td>None</td>\n    </tr>\n    <tr>\n      <th>2205</th>\n      <td>81</td>\n      <td>1226</td>\n      <td>9192</td>\n      <td>Oscar PIASTRI</td>\n      <td>None</td>\n    </tr>\n    <tr>\n      <th>2858</th>\n      <td>50</td>\n      <td>1235</td>\n      <td>9508</td>\n      <td>Oliver BEARMAN</td>\n      <td>None</td>\n    </tr>\n  </tbody>\n</table>\n<p>957 rows × 5 columns</p>\n</div>"
          },
          "metadata": {}
        }
      ],
      "execution_count": 11
    },
    {
      "cell_type": "code",
      "source": "############################################## 결측치 처리\n\ndriver['team_name'] = driver.groupby('full_name')['team_name'].transform(lambda x: x.ffill().bfill())",
      "metadata": {
        "trusted": true
      },
      "outputs": [],
      "execution_count": 12
    },
    {
      "cell_type": "markdown",
      "source": "### session",
      "metadata": {}
    },
    {
      "cell_type": "code",
      "source": "session.info()",
      "metadata": {
        "trusted": true
      },
      "outputs": [
        {
          "name": "stdout",
          "text": "<class 'pandas.core.frame.DataFrame'>\nRangeIndex: 157 entries, 0 to 156\nData columns (total 6 columns):\n #   Column        Non-Null Count  Dtype \n---  ------        --------------  ----- \n 0   meeting_key   157 non-null    int64 \n 1   session_key   157 non-null    int64 \n 2   session_type  157 non-null    object\n 3   date_start    157 non-null    object\n 4   date_end      157 non-null    object\n 5   year          157 non-null    int64 \ndtypes: int64(3), object(3)\nmemory usage: 5.6+ KB\n",
          "output_type": "stream"
        }
      ],
      "execution_count": 15
    },
    {
      "cell_type": "code",
      "source": "session[\"year\"].unique()",
      "metadata": {
        "trusted": true
      },
      "outputs": [
        {
          "execution_count": 17,
          "output_type": "execute_result",
          "data": {
            "text/plain": "array([2023, 2024], dtype=int64)"
          },
          "metadata": {}
        }
      ],
      "execution_count": 17
    },
    {
      "cell_type": "markdown",
      "source": "### to CSV",
      "metadata": {}
    },
    {
      "cell_type": "code",
      "source": "# driver\ndriver.to_csv('./driver.csv', sep=',', na_rep='Null', index=False)",
      "metadata": {
        "trusted": true
      },
      "outputs": [],
      "execution_count": 14
    },
    {
      "cell_type": "code",
      "source": "# session\nsession.to_csv('./session.csv', sep=',', na_rep='Null', index=False)",
      "metadata": {
        "trusted": true
      },
      "outputs": [],
      "execution_count": 18
    },
    {
      "cell_type": "code",
      "source": "pd.merge(session, driver, how='left', on=['session_key', 'meeting_key'])",
      "metadata": {
        "trusted": true
      },
      "outputs": [
        {
          "execution_count": 19,
          "output_type": "execute_result",
          "data": {
            "text/plain": "      meeting_key  session_key session_type                 date_start  \\\n0            1140         9222     Practice  2023-02-23T07:00:00+00:00   \n1            1140         9222     Practice  2023-02-23T07:00:00+00:00   \n2            1140         9222     Practice  2023-02-23T07:00:00+00:00   \n3            1140         9222     Practice  2023-02-23T07:00:00+00:00   \n4            1140         9222     Practice  2023-02-23T07:00:00+00:00   \n...           ...          ...          ...                        ...   \n3138         1237         9531         Race  2024-06-09T18:00:00+00:00   \n3139         1237         9531         Race  2024-06-09T18:00:00+00:00   \n3140         1237         9531         Race  2024-06-09T18:00:00+00:00   \n3141         1237         9531         Race  2024-06-09T18:00:00+00:00   \n3142         1237         9531         Race  2024-06-09T18:00:00+00:00   \n\n                       date_end  year  driver_number        full_name  \\\n0     2023-02-23T16:30:00+00:00  2023              1   Max VERSTAPPEN   \n1     2023-02-23T16:30:00+00:00  2023              2   Logan SARGEANT   \n2     2023-02-23T16:30:00+00:00  2023              4     Lando NORRIS   \n3     2023-02-23T16:30:00+00:00  2023             10     Pierre GASLY   \n4     2023-02-23T16:30:00+00:00  2023             14  Fernando ALONSO   \n...                         ...   ...            ...              ...   \n3138  2024-06-09T20:00:00+00:00  2024             44   Lewis HAMILTON   \n3139  2024-06-09T20:00:00+00:00  2024             55     Carlos SAINZ   \n3140  2024-06-09T20:00:00+00:00  2024             63   George RUSSELL   \n3141  2024-06-09T20:00:00+00:00  2024             77  Valtteri BOTTAS   \n3142  2024-06-09T20:00:00+00:00  2024             81    Oscar PIASTRI   \n\n            team_name  \n0     Red Bull Racing  \n1            Williams  \n2             McLaren  \n3              Alpine  \n4        Aston Martin  \n...               ...  \n3138         Mercedes  \n3139          Ferrari  \n3140         Mercedes  \n3141      Kick Sauber  \n3142          McLaren  \n\n[3143 rows x 9 columns]",
            "text/html": "<div>\n<style scoped>\n    .dataframe tbody tr th:only-of-type {\n        vertical-align: middle;\n    }\n\n    .dataframe tbody tr th {\n        vertical-align: top;\n    }\n\n    .dataframe thead th {\n        text-align: right;\n    }\n</style>\n<table border=\"1\" class=\"dataframe\">\n  <thead>\n    <tr style=\"text-align: right;\">\n      <th></th>\n      <th>meeting_key</th>\n      <th>session_key</th>\n      <th>session_type</th>\n      <th>date_start</th>\n      <th>date_end</th>\n      <th>year</th>\n      <th>driver_number</th>\n      <th>full_name</th>\n      <th>team_name</th>\n    </tr>\n  </thead>\n  <tbody>\n    <tr>\n      <th>0</th>\n      <td>1140</td>\n      <td>9222</td>\n      <td>Practice</td>\n      <td>2023-02-23T07:00:00+00:00</td>\n      <td>2023-02-23T16:30:00+00:00</td>\n      <td>2023</td>\n      <td>1</td>\n      <td>Max VERSTAPPEN</td>\n      <td>Red Bull Racing</td>\n    </tr>\n    <tr>\n      <th>1</th>\n      <td>1140</td>\n      <td>9222</td>\n      <td>Practice</td>\n      <td>2023-02-23T07:00:00+00:00</td>\n      <td>2023-02-23T16:30:00+00:00</td>\n      <td>2023</td>\n      <td>2</td>\n      <td>Logan SARGEANT</td>\n      <td>Williams</td>\n    </tr>\n    <tr>\n      <th>2</th>\n      <td>1140</td>\n      <td>9222</td>\n      <td>Practice</td>\n      <td>2023-02-23T07:00:00+00:00</td>\n      <td>2023-02-23T16:30:00+00:00</td>\n      <td>2023</td>\n      <td>4</td>\n      <td>Lando NORRIS</td>\n      <td>McLaren</td>\n    </tr>\n    <tr>\n      <th>3</th>\n      <td>1140</td>\n      <td>9222</td>\n      <td>Practice</td>\n      <td>2023-02-23T07:00:00+00:00</td>\n      <td>2023-02-23T16:30:00+00:00</td>\n      <td>2023</td>\n      <td>10</td>\n      <td>Pierre GASLY</td>\n      <td>Alpine</td>\n    </tr>\n    <tr>\n      <th>4</th>\n      <td>1140</td>\n      <td>9222</td>\n      <td>Practice</td>\n      <td>2023-02-23T07:00:00+00:00</td>\n      <td>2023-02-23T16:30:00+00:00</td>\n      <td>2023</td>\n      <td>14</td>\n      <td>Fernando ALONSO</td>\n      <td>Aston Martin</td>\n    </tr>\n    <tr>\n      <th>...</th>\n      <td>...</td>\n      <td>...</td>\n      <td>...</td>\n      <td>...</td>\n      <td>...</td>\n      <td>...</td>\n      <td>...</td>\n      <td>...</td>\n      <td>...</td>\n    </tr>\n    <tr>\n      <th>3138</th>\n      <td>1237</td>\n      <td>9531</td>\n      <td>Race</td>\n      <td>2024-06-09T18:00:00+00:00</td>\n      <td>2024-06-09T20:00:00+00:00</td>\n      <td>2024</td>\n      <td>44</td>\n      <td>Lewis HAMILTON</td>\n      <td>Mercedes</td>\n    </tr>\n    <tr>\n      <th>3139</th>\n      <td>1237</td>\n      <td>9531</td>\n      <td>Race</td>\n      <td>2024-06-09T18:00:00+00:00</td>\n      <td>2024-06-09T20:00:00+00:00</td>\n      <td>2024</td>\n      <td>55</td>\n      <td>Carlos SAINZ</td>\n      <td>Ferrari</td>\n    </tr>\n    <tr>\n      <th>3140</th>\n      <td>1237</td>\n      <td>9531</td>\n      <td>Race</td>\n      <td>2024-06-09T18:00:00+00:00</td>\n      <td>2024-06-09T20:00:00+00:00</td>\n      <td>2024</td>\n      <td>63</td>\n      <td>George RUSSELL</td>\n      <td>Mercedes</td>\n    </tr>\n    <tr>\n      <th>3141</th>\n      <td>1237</td>\n      <td>9531</td>\n      <td>Race</td>\n      <td>2024-06-09T18:00:00+00:00</td>\n      <td>2024-06-09T20:00:00+00:00</td>\n      <td>2024</td>\n      <td>77</td>\n      <td>Valtteri BOTTAS</td>\n      <td>Kick Sauber</td>\n    </tr>\n    <tr>\n      <th>3142</th>\n      <td>1237</td>\n      <td>9531</td>\n      <td>Race</td>\n      <td>2024-06-09T18:00:00+00:00</td>\n      <td>2024-06-09T20:00:00+00:00</td>\n      <td>2024</td>\n      <td>81</td>\n      <td>Oscar PIASTRI</td>\n      <td>McLaren</td>\n    </tr>\n  </tbody>\n</table>\n<p>3143 rows × 9 columns</p>\n</div>"
          },
          "metadata": {}
        }
      ],
      "execution_count": 19
    }
  ]
}