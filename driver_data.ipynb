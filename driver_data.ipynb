{
  "metadata": {
    "kernelspec": {
      "name": "python",
      "display_name": "Python (Pyodide)",
      "language": "python"
    },
    "language_info": {
      "codemirror_mode": {
        "name": "python",
        "version": 3
      },
      "file_extension": ".py",
      "mimetype": "text/x-python",
      "name": "python",
      "nbconvert_exporter": "python",
      "pygments_lexer": "ipython3",
      "version": "3.8"
    }
  },
  "nbformat_minor": 4,
  "nbformat": 4,
  "cells": [
    {
      "cell_type": "code",
      "source": "from urllib.request import urlopen\nimport requests\nimport json\nimport pandas as pd\nfrom pandas import DataFrame\nimport datetime",
      "metadata": {
        "trusted": true
      },
      "outputs": [],
      "execution_count": 1
    },
    {
      "cell_type": "markdown",
      "source": "## get data",
      "metadata": {}
    },
    {
      "cell_type": "markdown",
      "source": "### driver",
      "metadata": {}
    },
    {
      "cell_type": "code",
      "source": "driver = pd.DataFrame(requests.get('https://api.openf1.org/v1/drivers').json())",
      "metadata": {
        "trusted": true
      },
      "outputs": [
        {
          "name": "stderr",
          "text": "/lib/python3.11/site-packages/urllib3/connectionpool.py:1101: InsecureRequestWarning: Unverified HTTPS request is being made to host 'api.openf1.org'. Adding certificate verification is strongly advised. See: https://urllib3.readthedocs.io/en/latest/advanced-usage.html#tls-warnings\n  warnings.warn(\n",
          "output_type": "stream"
        }
      ],
      "execution_count": 2
    },
    {
      "cell_type": "code",
      "source": "#cols_driver = [\"driver_number\", \"meeting_key\", \"session_key\", \"full_name\", \"team_name\"] ",
      "metadata": {
        "trusted": true
      },
      "outputs": [],
      "execution_count": 3
    },
    {
      "cell_type": "code",
      "source": "#driver = driver[cols_driver]",
      "metadata": {
        "trusted": true
      },
      "outputs": [],
      "execution_count": 4
    },
    {
      "cell_type": "markdown",
      "source": "## data check",
      "metadata": {}
    },
    {
      "cell_type": "markdown",
      "source": "### driver",
      "metadata": {}
    },
    {
      "cell_type": "code",
      "source": "driver.info()",
      "metadata": {
        "trusted": true
      },
      "outputs": [
        {
          "name": "stdout",
          "text": "<class 'pandas.core.frame.DataFrame'>\nRangeIndex: 3143 entries, 0 to 3142\nData columns (total 12 columns):\n #   Column          Non-Null Count  Dtype \n---  ------          --------------  ----- \n 0   driver_number   3143 non-null   int64 \n 1   broadcast_name  3143 non-null   object\n 2   full_name       3143 non-null   object\n 3   name_acronym    3143 non-null   object\n 4   team_name       2186 non-null   object\n 5   team_colour     2186 non-null   object\n 6   first_name      2186 non-null   object\n 7   last_name       2186 non-null   object\n 8   headshot_url    2124 non-null   object\n 9   country_code    2186 non-null   object\n 10  session_key     3143 non-null   int64 \n 11  meeting_key     3143 non-null   int64 \ndtypes: int64(3), object(9)\nmemory usage: 184.2+ KB\n",
          "output_type": "stream"
        }
      ],
      "execution_count": 5
    },
    {
      "cell_type": "code",
      "source": "driver[driver[\"team_name\"].isnull() == True]",
      "metadata": {
        "trusted": true,
        "scrolled": true
      },
      "outputs": [
        {
          "execution_count": 6,
          "output_type": "execute_result",
          "data": {
            "text/plain": "      driver_number broadcast_name        full_name name_acronym team_name  \\\n40               20    K MAGNUSSEN  Kevin MAGNUSSEN          MAG      None   \n133               1   M VERSTAPPEN   Max VERSTAPPEN          VER      None   \n134               2     L SARGEANT   Logan SARGEANT          SAR      None   \n135               4       L NORRIS     Lando NORRIS          NOR      None   \n136              10        P GASLY     Pierre GASLY          GAS      None   \n...             ...            ...              ...          ...       ...   \n2202             55        C SAINZ     Carlos SAINZ          SAI      None   \n2203             63      G RUSSELL   George RUSSELL          RUS      None   \n2204             77       V BOTTAS  Valtteri BOTTAS          BOT      None   \n2205             81      O PIASTRI    Oscar PIASTRI          PIA      None   \n2858             50      O BEARMAN   Oliver BEARMAN          BEA      None   \n\n     team_colour first_name last_name headshot_url country_code  session_key  \\\n40          None       None      None         None         None         9222   \n133         None       None      None         None         None         7953   \n134         None       None      None         None         None         7953   \n135         None       None      None         None         None         7953   \n136         None       None      None         None         None         7953   \n...          ...        ...       ...          ...          ...          ...   \n2202        None       None      None         None         None         9192   \n2203        None       None      None         None         None         9192   \n2204        None       None      None         None         None         9192   \n2205        None       None      None         None         None         9192   \n2858        None       None      None         None         None         9508   \n\n      meeting_key  \n40           1140  \n133          1141  \n134          1141  \n135          1141  \n136          1141  \n...           ...  \n2202         1226  \n2203         1226  \n2204         1226  \n2205         1226  \n2858         1235  \n\n[957 rows x 12 columns]",
            "text/html": "<div>\n<style scoped>\n    .dataframe tbody tr th:only-of-type {\n        vertical-align: middle;\n    }\n\n    .dataframe tbody tr th {\n        vertical-align: top;\n    }\n\n    .dataframe thead th {\n        text-align: right;\n    }\n</style>\n<table border=\"1\" class=\"dataframe\">\n  <thead>\n    <tr style=\"text-align: right;\">\n      <th></th>\n      <th>driver_number</th>\n      <th>broadcast_name</th>\n      <th>full_name</th>\n      <th>name_acronym</th>\n      <th>team_name</th>\n      <th>team_colour</th>\n      <th>first_name</th>\n      <th>last_name</th>\n      <th>headshot_url</th>\n      <th>country_code</th>\n      <th>session_key</th>\n      <th>meeting_key</th>\n    </tr>\n  </thead>\n  <tbody>\n    <tr>\n      <th>40</th>\n      <td>20</td>\n      <td>K MAGNUSSEN</td>\n      <td>Kevin MAGNUSSEN</td>\n      <td>MAG</td>\n      <td>None</td>\n      <td>None</td>\n      <td>None</td>\n      <td>None</td>\n      <td>None</td>\n      <td>None</td>\n      <td>9222</td>\n      <td>1140</td>\n    </tr>\n    <tr>\n      <th>133</th>\n      <td>1</td>\n      <td>M VERSTAPPEN</td>\n      <td>Max VERSTAPPEN</td>\n      <td>VER</td>\n      <td>None</td>\n      <td>None</td>\n      <td>None</td>\n      <td>None</td>\n      <td>None</td>\n      <td>None</td>\n      <td>7953</td>\n      <td>1141</td>\n    </tr>\n    <tr>\n      <th>134</th>\n      <td>2</td>\n      <td>L SARGEANT</td>\n      <td>Logan SARGEANT</td>\n      <td>SAR</td>\n      <td>None</td>\n      <td>None</td>\n      <td>None</td>\n      <td>None</td>\n      <td>None</td>\n      <td>None</td>\n      <td>7953</td>\n      <td>1141</td>\n    </tr>\n    <tr>\n      <th>135</th>\n      <td>4</td>\n      <td>L NORRIS</td>\n      <td>Lando NORRIS</td>\n      <td>NOR</td>\n      <td>None</td>\n      <td>None</td>\n      <td>None</td>\n      <td>None</td>\n      <td>None</td>\n      <td>None</td>\n      <td>7953</td>\n      <td>1141</td>\n    </tr>\n    <tr>\n      <th>136</th>\n      <td>10</td>\n      <td>P GASLY</td>\n      <td>Pierre GASLY</td>\n      <td>GAS</td>\n      <td>None</td>\n      <td>None</td>\n      <td>None</td>\n      <td>None</td>\n      <td>None</td>\n      <td>None</td>\n      <td>7953</td>\n      <td>1141</td>\n    </tr>\n    <tr>\n      <th>...</th>\n      <td>...</td>\n      <td>...</td>\n      <td>...</td>\n      <td>...</td>\n      <td>...</td>\n      <td>...</td>\n      <td>...</td>\n      <td>...</td>\n      <td>...</td>\n      <td>...</td>\n      <td>...</td>\n      <td>...</td>\n    </tr>\n    <tr>\n      <th>2202</th>\n      <td>55</td>\n      <td>C SAINZ</td>\n      <td>Carlos SAINZ</td>\n      <td>SAI</td>\n      <td>None</td>\n      <td>None</td>\n      <td>None</td>\n      <td>None</td>\n      <td>None</td>\n      <td>None</td>\n      <td>9192</td>\n      <td>1226</td>\n    </tr>\n    <tr>\n      <th>2203</th>\n      <td>63</td>\n      <td>G RUSSELL</td>\n      <td>George RUSSELL</td>\n      <td>RUS</td>\n      <td>None</td>\n      <td>None</td>\n      <td>None</td>\n      <td>None</td>\n      <td>None</td>\n      <td>None</td>\n      <td>9192</td>\n      <td>1226</td>\n    </tr>\n    <tr>\n      <th>2204</th>\n      <td>77</td>\n      <td>V BOTTAS</td>\n      <td>Valtteri BOTTAS</td>\n      <td>BOT</td>\n      <td>None</td>\n      <td>None</td>\n      <td>None</td>\n      <td>None</td>\n      <td>None</td>\n      <td>None</td>\n      <td>9192</td>\n      <td>1226</td>\n    </tr>\n    <tr>\n      <th>2205</th>\n      <td>81</td>\n      <td>O PIASTRI</td>\n      <td>Oscar PIASTRI</td>\n      <td>PIA</td>\n      <td>None</td>\n      <td>None</td>\n      <td>None</td>\n      <td>None</td>\n      <td>None</td>\n      <td>None</td>\n      <td>9192</td>\n      <td>1226</td>\n    </tr>\n    <tr>\n      <th>2858</th>\n      <td>50</td>\n      <td>O BEARMAN</td>\n      <td>Oliver BEARMAN</td>\n      <td>BEA</td>\n      <td>None</td>\n      <td>None</td>\n      <td>None</td>\n      <td>None</td>\n      <td>None</td>\n      <td>None</td>\n      <td>9508</td>\n      <td>1235</td>\n    </tr>\n  </tbody>\n</table>\n<p>957 rows × 12 columns</p>\n</div>"
          },
          "metadata": {}
        }
      ],
      "execution_count": 6
    },
    {
      "cell_type": "code",
      "source": "driver[driver[\"full_name\"] == \"Max VERSTAPPEN\"]",
      "metadata": {
        "trusted": true
      },
      "outputs": [
        {
          "execution_count": 7,
          "output_type": "execute_result",
          "data": {
            "text/plain": "      driver_number broadcast_name       full_name name_acronym  \\\n0                 1   M VERSTAPPEN  Max VERSTAPPEN          VER   \n34                1   M VERSTAPPEN  Max VERSTAPPEN          VER   \n53                1   M VERSTAPPEN  Max VERSTAPPEN          VER   \n73                1   M VERSTAPPEN  Max VERSTAPPEN          VER   \n93                1   M VERSTAPPEN  Max VERSTAPPEN          VER   \n...             ...            ...             ...          ...   \n3043              1   M VERSTAPPEN  Max VERSTAPPEN          VER   \n3063              1   M VERSTAPPEN  Max VERSTAPPEN          VER   \n3083              1   M VERSTAPPEN  Max VERSTAPPEN          VER   \n3103              1   M VERSTAPPEN  Max VERSTAPPEN          VER   \n3123              1   M VERSTAPPEN  Max VERSTAPPEN          VER   \n\n            team_name team_colour first_name   last_name  \\\n0     Red Bull Racing      3671C6        Max  Verstappen   \n34    Red Bull Racing      3671C6        Max  Verstappen   \n53    Red Bull Racing      3671C6        Max  Verstappen   \n73    Red Bull Racing      3671C6        Max  Verstappen   \n93    Red Bull Racing      3671C6        Max  Verstappen   \n...               ...         ...        ...         ...   \n3043  Red Bull Racing      3671C6        Max  Verstappen   \n3063  Red Bull Racing      3671C6        Max  Verstappen   \n3083  Red Bull Racing      3671C6        Max  Verstappen   \n3103  Red Bull Racing      3671C6        Max  Verstappen   \n3123  Red Bull Racing      3671C6        Max  Verstappen   \n\n                                           headshot_url country_code  \\\n0     https://www.formula1.com/content/dam/fom-websi...          NED   \n34    https://www.formula1.com/content/dam/fom-websi...          NED   \n53    https://www.formula1.com/content/dam/fom-websi...          NED   \n73    https://www.formula1.com/content/dam/fom-websi...          NED   \n93    https://www.formula1.com/content/dam/fom-websi...          NED   \n...                                                 ...          ...   \n3043  https://media.formula1.com/d_driver_fallback_i...          NED   \n3063  https://media.formula1.com/d_driver_fallback_i...          NED   \n3083  https://media.formula1.com/d_driver_fallback_i...          NED   \n3103  https://media.formula1.com/d_driver_fallback_i...          NED   \n3123  https://media.formula1.com/d_driver_fallback_i...          NED   \n\n      session_key  meeting_key  \n0            7763         1140  \n34           9222         1140  \n53           7765         1141  \n73           7766         1141  \n93           7767         1141  \n...           ...          ...  \n3043         9524         1237  \n3063         9525         1237  \n3083         9526         1237  \n3103         9527         1237  \n3123         9531         1237  \n\n[155 rows x 12 columns]",
            "text/html": "<div>\n<style scoped>\n    .dataframe tbody tr th:only-of-type {\n        vertical-align: middle;\n    }\n\n    .dataframe tbody tr th {\n        vertical-align: top;\n    }\n\n    .dataframe thead th {\n        text-align: right;\n    }\n</style>\n<table border=\"1\" class=\"dataframe\">\n  <thead>\n    <tr style=\"text-align: right;\">\n      <th></th>\n      <th>driver_number</th>\n      <th>broadcast_name</th>\n      <th>full_name</th>\n      <th>name_acronym</th>\n      <th>team_name</th>\n      <th>team_colour</th>\n      <th>first_name</th>\n      <th>last_name</th>\n      <th>headshot_url</th>\n      <th>country_code</th>\n      <th>session_key</th>\n      <th>meeting_key</th>\n    </tr>\n  </thead>\n  <tbody>\n    <tr>\n      <th>0</th>\n      <td>1</td>\n      <td>M VERSTAPPEN</td>\n      <td>Max VERSTAPPEN</td>\n      <td>VER</td>\n      <td>Red Bull Racing</td>\n      <td>3671C6</td>\n      <td>Max</td>\n      <td>Verstappen</td>\n      <td>https://www.formula1.com/content/dam/fom-websi...</td>\n      <td>NED</td>\n      <td>7763</td>\n      <td>1140</td>\n    </tr>\n    <tr>\n      <th>34</th>\n      <td>1</td>\n      <td>M VERSTAPPEN</td>\n      <td>Max VERSTAPPEN</td>\n      <td>VER</td>\n      <td>Red Bull Racing</td>\n      <td>3671C6</td>\n      <td>Max</td>\n      <td>Verstappen</td>\n      <td>https://www.formula1.com/content/dam/fom-websi...</td>\n      <td>NED</td>\n      <td>9222</td>\n      <td>1140</td>\n    </tr>\n    <tr>\n      <th>53</th>\n      <td>1</td>\n      <td>M VERSTAPPEN</td>\n      <td>Max VERSTAPPEN</td>\n      <td>VER</td>\n      <td>Red Bull Racing</td>\n      <td>3671C6</td>\n      <td>Max</td>\n      <td>Verstappen</td>\n      <td>https://www.formula1.com/content/dam/fom-websi...</td>\n      <td>NED</td>\n      <td>7765</td>\n      <td>1141</td>\n    </tr>\n    <tr>\n      <th>73</th>\n      <td>1</td>\n      <td>M VERSTAPPEN</td>\n      <td>Max VERSTAPPEN</td>\n      <td>VER</td>\n      <td>Red Bull Racing</td>\n      <td>3671C6</td>\n      <td>Max</td>\n      <td>Verstappen</td>\n      <td>https://www.formula1.com/content/dam/fom-websi...</td>\n      <td>NED</td>\n      <td>7766</td>\n      <td>1141</td>\n    </tr>\n    <tr>\n      <th>93</th>\n      <td>1</td>\n      <td>M VERSTAPPEN</td>\n      <td>Max VERSTAPPEN</td>\n      <td>VER</td>\n      <td>Red Bull Racing</td>\n      <td>3671C6</td>\n      <td>Max</td>\n      <td>Verstappen</td>\n      <td>https://www.formula1.com/content/dam/fom-websi...</td>\n      <td>NED</td>\n      <td>7767</td>\n      <td>1141</td>\n    </tr>\n    <tr>\n      <th>...</th>\n      <td>...</td>\n      <td>...</td>\n      <td>...</td>\n      <td>...</td>\n      <td>...</td>\n      <td>...</td>\n      <td>...</td>\n      <td>...</td>\n      <td>...</td>\n      <td>...</td>\n      <td>...</td>\n      <td>...</td>\n    </tr>\n    <tr>\n      <th>3043</th>\n      <td>1</td>\n      <td>M VERSTAPPEN</td>\n      <td>Max VERSTAPPEN</td>\n      <td>VER</td>\n      <td>Red Bull Racing</td>\n      <td>3671C6</td>\n      <td>Max</td>\n      <td>Verstappen</td>\n      <td>https://media.formula1.com/d_driver_fallback_i...</td>\n      <td>NED</td>\n      <td>9524</td>\n      <td>1237</td>\n    </tr>\n    <tr>\n      <th>3063</th>\n      <td>1</td>\n      <td>M VERSTAPPEN</td>\n      <td>Max VERSTAPPEN</td>\n      <td>VER</td>\n      <td>Red Bull Racing</td>\n      <td>3671C6</td>\n      <td>Max</td>\n      <td>Verstappen</td>\n      <td>https://media.formula1.com/d_driver_fallback_i...</td>\n      <td>NED</td>\n      <td>9525</td>\n      <td>1237</td>\n    </tr>\n    <tr>\n      <th>3083</th>\n      <td>1</td>\n      <td>M VERSTAPPEN</td>\n      <td>Max VERSTAPPEN</td>\n      <td>VER</td>\n      <td>Red Bull Racing</td>\n      <td>3671C6</td>\n      <td>Max</td>\n      <td>Verstappen</td>\n      <td>https://media.formula1.com/d_driver_fallback_i...</td>\n      <td>NED</td>\n      <td>9526</td>\n      <td>1237</td>\n    </tr>\n    <tr>\n      <th>3103</th>\n      <td>1</td>\n      <td>M VERSTAPPEN</td>\n      <td>Max VERSTAPPEN</td>\n      <td>VER</td>\n      <td>Red Bull Racing</td>\n      <td>3671C6</td>\n      <td>Max</td>\n      <td>Verstappen</td>\n      <td>https://media.formula1.com/d_driver_fallback_i...</td>\n      <td>NED</td>\n      <td>9527</td>\n      <td>1237</td>\n    </tr>\n    <tr>\n      <th>3123</th>\n      <td>1</td>\n      <td>M VERSTAPPEN</td>\n      <td>Max VERSTAPPEN</td>\n      <td>VER</td>\n      <td>Red Bull Racing</td>\n      <td>3671C6</td>\n      <td>Max</td>\n      <td>Verstappen</td>\n      <td>https://media.formula1.com/d_driver_fallback_i...</td>\n      <td>NED</td>\n      <td>9531</td>\n      <td>1237</td>\n    </tr>\n  </tbody>\n</table>\n<p>155 rows × 12 columns</p>\n</div>"
          },
          "metadata": {}
        }
      ],
      "execution_count": 7
    },
    {
      "cell_type": "code",
      "source": "############################################## 결측치 처리\n\ndriver['team_name'] = driver.groupby('full_name')['team_name'].transform(lambda x: x.ffill().bfill())\ndriver['team_colour'] = driver.groupby('team_name')['team_colour'].transform(lambda x: x.ffill().bfill())\ndriver['first_name'] = driver.groupby('full_name')['first_name'].transform(lambda x: x.ffill().bfill())\ndriver['last_name'] = driver.groupby('full_name')['last_name'].transform(lambda x: x.ffill().bfill())\ndriver['headshot_url'] = driver.groupby('full_name')['headshot_url'].transform(lambda x: x.ffill())\ndriver['country_code'] = driver.groupby('full_name')['country_code'].transform(lambda x: x.ffill().bfill())",
      "metadata": {
        "trusted": true
      },
      "outputs": [],
      "execution_count": 8
    },
    {
      "cell_type": "code",
      "source": "driver[driver[\"full_name\"] == \"Max VERSTAPPEN\"][driver.country_code.isna()]",
      "metadata": {
        "trusted": true
      },
      "outputs": [
        {
          "name": "stderr",
          "text": "<ipython-input-9-55644b86e557>:1: UserWarning: Boolean Series key will be reindexed to match DataFrame index.\n  driver[driver[\"full_name\"] == \"Max VERSTAPPEN\"][driver.country_code.isna()]\n",
          "output_type": "stream"
        },
        {
          "execution_count": 9,
          "output_type": "execute_result",
          "data": {
            "text/plain": "Empty DataFrame\nColumns: [driver_number, broadcast_name, full_name, name_acronym, team_name, team_colour, first_name, last_name, headshot_url, country_code, session_key, meeting_key]\nIndex: []",
            "text/html": "<div>\n<style scoped>\n    .dataframe tbody tr th:only-of-type {\n        vertical-align: middle;\n    }\n\n    .dataframe tbody tr th {\n        vertical-align: top;\n    }\n\n    .dataframe thead th {\n        text-align: right;\n    }\n</style>\n<table border=\"1\" class=\"dataframe\">\n  <thead>\n    <tr style=\"text-align: right;\">\n      <th></th>\n      <th>driver_number</th>\n      <th>broadcast_name</th>\n      <th>full_name</th>\n      <th>name_acronym</th>\n      <th>team_name</th>\n      <th>team_colour</th>\n      <th>first_name</th>\n      <th>last_name</th>\n      <th>headshot_url</th>\n      <th>country_code</th>\n      <th>session_key</th>\n      <th>meeting_key</th>\n    </tr>\n  </thead>\n  <tbody>\n  </tbody>\n</table>\n</div>"
          },
          "metadata": {}
        }
      ],
      "execution_count": 9
    },
    {
      "cell_type": "markdown",
      "source": "### to CSV",
      "metadata": {}
    },
    {
      "cell_type": "code",
      "source": "# driver\ndriver.to_csv('./driver.csv', sep=',', na_rep='Null', index=False)",
      "metadata": {
        "trusted": true
      },
      "outputs": [],
      "execution_count": 10
    }
  ]
}